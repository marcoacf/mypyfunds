{
 "cells": [
  {
   "cell_type": "code",
   "execution_count": 1,
   "metadata": {},
   "outputs": [
    {
     "name": "stdout",
     "output_type": "stream",
     "text": [
      "2015-01-25\n"
     ]
    }
   ],
   "source": [
    "from datetime import date, timedelta\n",
    "import calendar\n",
    "start_date = date(2014, 12, 25)\n",
    "days_in_month = calendar.monthrange(start_date.year, start_date.month)[1]\n",
    "print(start_date + timedelta(days=days_in_month))"
   ]
  },
  {
   "cell_type": "code",
   "execution_count": 8,
   "metadata": {},
   "outputs": [
    {
     "name": "stdout",
     "output_type": "stream",
     "text": [
      "31\n",
      "2015-01-25\n"
     ]
    }
   ],
   "source": [
    "from datetime import date, timedelta\n",
    "import calendar\n",
    "start_date = date(2014, 12, 25)\n",
    "days_in_month = calendar.monthrange(start_date.year, start_date.month)[1]\n",
    "print(days_in_month)\n",
    "print(start_date + timedelta(days=days_in_month))"
   ]
  },
  {
   "cell_type": "code",
   "execution_count": 14,
   "metadata": {},
   "outputs": [],
   "source": [
    "import datetime\n",
    "import calendar\n",
    "\n",
    "def add_months(sourcedate, months):\n",
    "    month = sourcedate.month - 1 + months\n",
    "    year = sourcedate.year + month // 12\n",
    "    month = month % 12 + 1\n",
    "    day = min(sourcedate.day, calendar.monthrange(year,month)[1])\n",
    "    return datetime.datetime(year, month, day, 0, 0)"
   ]
  },
  {
   "cell_type": "code",
   "execution_count": 15,
   "metadata": {},
   "outputs": [
    {
     "data": {
      "text/plain": [
       "datetime.datetime(2020, 6, 1, 0, 0)"
      ]
     },
     "execution_count": 15,
     "metadata": {},
     "output_type": "execute_result"
    }
   ],
   "source": [
    "somedate = datetime.date.today()\n",
    "\n",
    "add_months(somedate,-12)\n",
    "\n",
    "\n"
   ]
  },
  {
   "cell_type": "code",
   "execution_count": 19,
   "metadata": {},
   "outputs": [
    {
     "data": {
      "text/plain": [
       "datetime.datetime(2020, 4, 1, 0, 0)"
      ]
     },
     "execution_count": 19,
     "metadata": {},
     "output_type": "execute_result"
    }
   ],
   "source": [
    "mes_ref = datetime.datetime(2021, 4, 1,0,0)\n",
    "add_months(mes_ref,-12)"
   ]
  },
  {
   "cell_type": "code",
   "execution_count": 27,
   "metadata": {},
   "outputs": [],
   "source": [
    "import dateutil\n",
    "mydate = datetime.datetime(2021, 4, 1)\n",
    "current = datetime.datetime(mydate.year, mydate.month, 1)\n",
    "#print('current ' + current)\n",
    "current\n",
    "next_month = datetime.datetime(mydate.year + int(mydate.month / 12), abs((mydate.month % 12) + 1), 1)\n",
    "#print('next_month ' + next_month)"
   ]
  },
  {
   "cell_type": "code",
   "execution_count": 29,
   "metadata": {},
   "outputs": [
    {
     "data": {
      "text/plain": [
       "4"
      ]
     },
     "execution_count": 29,
     "metadata": {},
     "output_type": "execute_result"
    }
   ],
   "source": [
    "(mydate.month % 12)\n",
    "#next_month\n"
   ]
  },
  {
   "cell_type": "code",
   "execution_count": 33,
   "metadata": {},
   "outputs": [
    {
     "name": "stdout",
     "output_type": "stream",
     "text": [
      "2020-10-01 00:00:00\n"
     ]
    }
   ],
   "source": [
    "from datetime import date\n",
    "from dateutil.relativedelta import relativedelta\n",
    "def add_meses(data_ref, meses):\n",
    "    nova_data = data_ref + relativedelta(months=+meses)\n",
    "    return nova_data\n",
    "\n",
    "mydate = datetime.datetime(2021, 4, 1)\n",
    "print(add_meses(mydate,-6))"
   ]
  },
  {
   "cell_type": "code",
   "execution_count": 31,
   "metadata": {},
   "outputs": [
    {
     "data": {
      "text/plain": [
       "datetime.date(2021, 12, 1)"
      ]
     },
     "execution_count": 31,
     "metadata": {},
     "output_type": "execute_result"
    }
   ],
   "source": [
    "six_months"
   ]
  }
 ],
 "metadata": {
  "kernelspec": {
   "display_name": "Python 3",
   "language": "python",
   "name": "python3"
  },
  "language_info": {
   "codemirror_mode": {
    "name": "ipython",
    "version": 3
   },
   "file_extension": ".py",
   "mimetype": "text/x-python",
   "name": "python",
   "nbconvert_exporter": "python",
   "pygments_lexer": "ipython3",
   "version": "3.8.5"
  }
 },
 "nbformat": 4,
 "nbformat_minor": 4
}
