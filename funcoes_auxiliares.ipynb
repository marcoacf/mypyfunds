{
 "cells": [
  {
   "cell_type": "code",
   "execution_count": 1,
   "metadata": {},
   "outputs": [],
   "source": [
    "import requests as rq\n",
    "from bs4 import BeautifulSoup as bs\n",
    "from datetime import datetime as dt\n",
    "\n",
    "#\n",
    "# gera lista de arquivos no diretório\n",
    "#\n",
    "def get_url_paths(url, ext='', params={}):\n",
    "    response = rq.get(url, params=params)\n",
    "    if response.ok:\n",
    "        response_text = response.text\n",
    "    else:\n",
    "        return response.raise_for_status()\n",
    "    soup = bs(response_text, 'html.parser')\n",
    "    parent = [url + node.get('href') for node in soup.find_all('a') if node.get('href').endswith(ext)]\n",
    "    return parent\n",
    "\n",
    "#\n",
    "# define função de tempo\n",
    "#\n",
    "def agora():    \n",
    "    # datetime object containing current date and time\n",
    "    now = dt.now()\n",
    "    # dd/mm/YY H:M:S\n",
    "    dt_string = now.strftime(\"%d/%m/%Y %H:%M:%S\")\n",
    "    #print(\"data e hora = \", dt_string)\n",
    "    return str(dt_string)\n",
    "\n",
    "\n",
    "def firstdatecurmonth():\n",
    "    date_today = dt.now()\n",
    "    month_first_day = date_today.replace(day=1, hour=0, minute=0, second=0, microsecond=0)\n",
    "    #print(month_first_day)\n",
    "    return month_first_day\n",
    "\n",
    "#\n",
    "# define função de limpeza de tabelas\n",
    "#\n",
    "def limpa_tabela(conn, tabela):\n",
    "    sql = 'delete from '\n",
    "    cur = conn.cursor()\n",
    "    cur.execute(sql + tabela)\n",
    "    conn.commit()\n",
    "    #print(sql + tabela)\n",
    "    \n",
    "def otimizarsqlite(conn):\n",
    "    conn.cursor().execute('VACUUM;')\n",
    "\n",
    "#\n",
    "# https://linuxhint.com/filter_list_strings_python/\n",
    "# Filter a list of string using another list and custom function\n",
    "# Declare a funtion to filter data from the first list\n",
    "def filtra_lista(lista_principal, lista_filtro):\n",
    "    return [n for n in lista_principal if\n",
    "             any(m in n for m in lista_filtro)]"
   ]
  },
  {
   "cell_type": "code",
   "execution_count": null,
   "metadata": {},
   "outputs": [],
   "source": []
  }
 ],
 "metadata": {
  "kernelspec": {
   "display_name": "Python 3",
   "language": "python",
   "name": "python3"
  },
  "language_info": {
   "codemirror_mode": {
    "name": "ipython",
    "version": 3
   },
   "file_extension": ".py",
   "mimetype": "text/x-python",
   "name": "python",
   "nbconvert_exporter": "python",
   "pygments_lexer": "ipython3",
   "version": "3.8.5"
  }
 },
 "nbformat": 4,
 "nbformat_minor": 4
}
