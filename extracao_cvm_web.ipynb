{
 "cells": [
  {
   "cell_type": "markdown",
   "metadata": {},
   "source": [
    "<h1>\n",
    "    <font color='green'>\n",
    "                        Processo de extração de dados da web\n",
    "     </font>\n",
    "    \n",
    "</h1>"
   ]
  },
  {
   "cell_type": "markdown",
   "metadata": {},
   "source": [
    "Obtendo dados da CVM.<br/> \n",
    "Calcular o beta dos fundos.<br/>\n",
    "1. [Informações](#1)<br>\n",
    "a. [Versionamento](#2)<br>\n",
    "b. [Funções usadas](#3)<br>\n",
    "2. [Processo](#4)<br>\n",
    "a. [Bibliotecas](#5) <br>\n",
    "b. [Encontra arquivos que serão importados](#6)<br>\n",
    "c. [Momento da importação](#7)<br>\n",
    "d. [Tratamento de dados](#8)<br>\n",
    "e. [Exclui dados desnecessários](#9)<br>\n",
    "f. [Analise de um fundo](#10)<br>\n",
    "g. [](#11)<br>\n"
   ]
  },
  {
   "cell_type": "markdown",
   "metadata": {},
   "source": [
    "<a id =2></a><br>\n",
    "### Versionamento\n",
    "\n",
    "| Versão | Descrição | Data | Desenvolvedor\n",
    "| :- |:------------- | :-: | :-:\n",
    "|v1.0.0|Versão inicial|2021-05-10|Marco Cruz\n",
    "|v1.0.1|Processo de ETL|2021-06-06|Marco Cruz\n",
    "|v1.0.2|Ajustes|2021-06-23|Marco Cruz"
   ]
  },
  {
   "cell_type": "markdown",
   "metadata": {},
   "source": [
    "<a id =5></a><br>\n",
    "### Bibliotecas"
   ]
  },
  {
   "cell_type": "code",
   "execution_count": 2,
   "metadata": {},
   "outputs": [
    {
     "name": "stdout",
     "output_type": "stream",
     "text": [
      "-- definição das bibliotecas necessárias\n",
      "---------------------------------------------------------------------------\n"
     ]
    }
   ],
   "source": [
    "#\n",
    "# definição das bibliotecas necessárias\n",
    "#\n",
    "#import requests\n",
    "#from bs4 import BeautifulSoup\n",
    "import sqlite3 as sql\n",
    "from pathlib import Path\n",
    "import pandas as pd\n",
    "pd.set_option('display.float_format', lambda x: '%.2f' % x)\n",
    "import matplotlib.pyplot as plt\n",
    "#from datetime import datetime\n",
    "import numpy as np\n",
    "import aux_funcoes as fa\n",
    "import aux_consultas_sql as csql\n",
    "import aux_listas as la\n",
    "#print('-' * 75)\n",
    "print('-- definição das bibliotecas necessárias')\n",
    "print('-' * 75)"
   ]
  },
  {
   "cell_type": "markdown",
   "metadata": {},
   "source": [
    "<a id =6></a><br>\n",
    "### Encontra arquivos que serão importados"
   ]
  },
  {
   "cell_type": "markdown",
   "metadata": {},
   "source": [
    "<div class=\"alert-warning\">    \n",
    "    <h4><br>&nbsp; listando arquivos disponíveis para carga no site da CVM...<br>\n",
    "    </h4>\n",
    "</div>"
   ]
  },
  {
   "cell_type": "code",
   "execution_count": 3,
   "metadata": {},
   "outputs": [
    {
     "name": "stdout",
     "output_type": "stream",
     "text": [
      "-- define arquivos a serem importados\n",
      "---------------------------------------------------------------------------\n",
      "-- - Quantidade de arquivos no diretório de cotas: 54\n",
      "-- - Quantidade de arquivos no diretório de características: 8\n",
      "---------------------------------------------------------------------------\n"
     ]
    }
   ],
   "source": [
    "#\n",
    "# define arquivos a serem importados\n",
    "#\n",
    "# Portal Dados Abertos CVM\n",
    "\n",
    "\n",
    "print('-- define arquivos a serem importados')\n",
    "print('-' * 75)\n",
    "\n",
    "url_cotas = 'http://dados.cvm.gov.br/dados/FI/DOC/INF_DIARIO/DADOS/'\n",
    "url_carac = 'http://dados.cvm.gov.br/dados/FI/DOC/EXTRATO/DADOS/'\n",
    "ext = 'csv'\n",
    "lst_arq_cotas = fa.get_url_paths(url_cotas, ext)\n",
    "print('-- - Quantidade de arquivos no diretório de cotas: ' +str(len(lst_arq_cotas)))\n",
    "lst_arq_carac = fa.get_url_paths(url_carac, ext)\n",
    "print('-- - Quantidade de arquivos no diretório de características: ' +str(len(lst_arq_carac)))\n",
    "print('-' * 75)"
   ]
  },
  {
   "cell_type": "markdown",
   "metadata": {},
   "source": [
    "### Retira da tabela de cotas os dois meses mais recentes"
   ]
  },
  {
   "cell_type": "markdown",
   "metadata": {},
   "source": [
    "<div class=\"alert-warning\">    \n",
    "    <h4><br>&nbsp; Mantendo apenas últimos meses na fila de importação...<br>\n",
    "    </h4>\n",
    "</div>"
   ]
  },
  {
   "cell_type": "code",
   "execution_count": 4,
   "metadata": {},
   "outputs": [
    {
     "name": "stdout",
     "output_type": "stream",
     "text": [
      "['http://dados.cvm.gov.br/dados/FI/DOC/INF_DIARIO/DADOS/inf_diario_fi_202104.csv', 'http://dados.cvm.gov.br/dados/FI/DOC/INF_DIARIO/DADOS/inf_diario_fi_202105.csv', 'http://dados.cvm.gov.br/dados/FI/DOC/INF_DIARIO/DADOS/inf_diario_fi_202106.csv']\n"
     ]
    }
   ],
   "source": [
    "from datetime import datetime\n",
    "today = datetime.today()\n",
    "datem0 = datetime(today.year, today.month, 1).strftime(\"%Y%m\")\n",
    "datem1 = datetime(today.year, today.month-1, 1).strftime(\"%Y%m\")\n",
    "datem2 = datetime(today.year, today.month-2, 1).strftime(\"%Y%m\")\n",
    "lst_meses = (datem0,datem1,datem2)\n",
    "\n",
    "\n",
    "lst_arq_cotas = fa.filtra_lista(lst_arq_cotas,lst_meses)\n",
    "print(lst_arq_cotas)"
   ]
  },
  {
   "cell_type": "markdown",
   "metadata": {},
   "source": [
    "<div class=\"alert-warning\">    \n",
    "    <h4><br>&nbsp; Excluindo dados recentes na tablea de cotações...<br>\n",
    "    </h4>\n",
    "</div>"
   ]
  },
  {
   "cell_type": "code",
   "execution_count": 5,
   "metadata": {},
   "outputs": [
    {
     "name": "stdout",
     "output_type": "stream",
     "text": [
      "--  - data e hora inicio =  27/06/2021 21:04:28\n",
      "[]\n",
      "--  - data e hora final  =  27/06/2021 21:04:31\n"
     ]
    }
   ],
   "source": [
    "print('--  - data e hora inicio = ', fa.agora())\n",
    "conn = sql.connect('investdb.db')\n",
    "with conn:\n",
    "    cur = conn.cursor()\n",
    "    cur.execute(csql.sqlDelCotas())\n",
    "    res = cur.fetchall()\n",
    "    print(res)\n",
    "if conn:\n",
    "    conn.close()\n",
    "\n",
    "print('--  - data e hora final  = ', fa.agora())\n"
   ]
  },
  {
   "cell_type": "markdown",
   "metadata": {},
   "source": [
    "<a id =7> </a><br>\n",
    "### Momento da importação"
   ]
  },
  {
   "cell_type": "markdown",
   "metadata": {},
   "source": [
    "<div class=\"alert-warning\">    \n",
    "    <h4><br>&nbsp; importando cotações para o dataframe <u>df</u>...<br>\n",
    "    </h4>\n",
    "</div>"
   ]
  },
  {
   "cell_type": "code",
   "execution_count": 6,
   "metadata": {},
   "outputs": [
    {
     "name": "stdout",
     "output_type": "stream",
     "text": [
      "---------------------------------------------------------------------------\n",
      "-- Arquivos disponíveis p importação: 3\n",
      "-- Inicio da importação dos csvs (cotas)\n",
      "--  - data e hora inicio =  27/06/2021 21:04:58\n",
      "-- Fim da importação dos csvs\n",
      "--  - data e hora final  =  27/06/2021 21:07:07\n",
      "---------------------------------------------------------------------------\n",
      "-- formato\n",
      "(1196642, 9)\n",
      "---------------------------------------------------------------------------\n"
     ]
    }
   ],
   "source": [
    "print('-' * 75)\n",
    "print('-- Arquivos disponíveis p importação: ' + str(len(lst_arq_cotas)))\n",
    "print('-- Inicio da importação dos csvs (cotas)')\n",
    "print('--  - data e hora inicio = ', fa.agora())\n",
    "df = (pd.read_csv(f, sep=';') for f in lst_arq_cotas)\n",
    "df = pd.concat(df)\n",
    "print('-- Fim da importação dos csvs')\n",
    "print('--  - data e hora final  = ', fa.agora())\n",
    "print('-' * 75)\n",
    "print('-- formato')\n",
    "print(df.shape)\n",
    "print('-' * 75)\n",
    "#print('-- cabeçalho')\n",
    "#print(df.head(3))\n",
    "#print('-' * 75)"
   ]
  },
  {
   "cell_type": "markdown",
   "metadata": {},
   "source": [
    "<div class=\"alert-warning\">    \n",
    "    <h4><br>&nbsp; importando caracteristicas para o dataframe <u>df2</u>...<br>\n",
    "    </h4>\n",
    "</div>"
   ]
  },
  {
   "cell_type": "code",
   "execution_count": 7,
   "metadata": {},
   "outputs": [
    {
     "name": "stdout",
     "output_type": "stream",
     "text": [
      "-- Inicio da importação dos csvs (caracteristicas)\n",
      "--  - data e hora inicio =  27/06/2021 21:07:07\n"
     ]
    },
    {
     "name": "stderr",
     "output_type": "stream",
     "text": [
      "<ipython-input-7-8af5f0076ad6>:4: DtypeWarning: Columns (19) have mixed types.Specify dtype option on import or set low_memory=False.\n",
      "  df2 = pd.concat(df2)\n"
     ]
    },
    {
     "name": "stdout",
     "output_type": "stream",
     "text": [
      "-- Fim da importação dos csvs\n",
      "--  - data e hora final =  27/06/2021 21:08:12\n",
      "-- formato\n",
      "(73645, 116)\n"
     ]
    }
   ],
   "source": [
    "print('-- Inicio da importação dos csvs (caracteristicas)')\n",
    "print('--  - data e hora inicio = ', fa.agora())\n",
    "df2 = (pd.read_csv(f, sep=';', encoding = 'cp1252') for f in lst_arq_carac)\n",
    "df2 = pd.concat(df2)\n",
    "print('-- Fim da importação dos csvs')\n",
    "print('--  - data e hora final = ', fa.agora())\n",
    "print('-- formato')\n",
    "print(df2.shape)\n"
   ]
  },
  {
   "cell_type": "markdown",
   "metadata": {},
   "source": [
    "<div class=\"alert-warning\">    \n",
    "    <h4><br>&nbsp; importando selic para o dataframe <u>selic</u>...<br>\n",
    "    </h4>\n",
    "</div>"
   ]
  },
  {
   "cell_type": "code",
   "execution_count": 9,
   "metadata": {},
   "outputs": [
    {
     "name": "stdout",
     "output_type": "stream",
     "text": [
      "selic contem:\n",
      "(8787, 3)\n",
      "---------------------------------------------------------------------------\n",
      "excluindo datas desnecessárias....\n",
      "selic contem:\n",
      "(421, 3)\n"
     ]
    },
    {
     "ename": "ProgrammingError",
     "evalue": "Cannot operate on a closed database.",
     "output_type": "error",
     "traceback": [
      "\u001b[1;31m---------------------------------------------------------------------------\u001b[0m",
      "\u001b[1;31mProgrammingError\u001b[0m                          Traceback (most recent call last)",
      "\u001b[1;32m<ipython-input-9-aef0d85bd6db>\u001b[0m in \u001b[0;36m<module>\u001b[1;34m\u001b[0m\n\u001b[0;32m     32\u001b[0m \u001b[0mprint\u001b[0m\u001b[1;33m(\u001b[0m\u001b[0mselic\u001b[0m\u001b[1;33m.\u001b[0m\u001b[0mshape\u001b[0m\u001b[1;33m)\u001b[0m\u001b[1;33m\u001b[0m\u001b[1;33m\u001b[0m\u001b[0m\n\u001b[0;32m     33\u001b[0m \u001b[1;33m\u001b[0m\u001b[0m\n\u001b[1;32m---> 34\u001b[1;33m \u001b[0mselic\u001b[0m\u001b[1;33m.\u001b[0m\u001b[0mto_sql\u001b[0m\u001b[1;33m(\u001b[0m\u001b[1;34m'tbl_selic'\u001b[0m\u001b[1;33m,\u001b[0m \u001b[0mconn\u001b[0m \u001b[1;33m,\u001b[0m \u001b[0mindex\u001b[0m\u001b[1;33m=\u001b[0m\u001b[1;32mFalse\u001b[0m\u001b[1;33m)\u001b[0m\u001b[1;33m\u001b[0m\u001b[1;33m\u001b[0m\u001b[0m\n\u001b[0m\u001b[0;32m     35\u001b[0m \u001b[0mprint\u001b[0m\u001b[1;33m(\u001b[0m\u001b[1;34m'-'\u001b[0m\u001b[1;33m*\u001b[0m\u001b[1;36m75\u001b[0m\u001b[1;33m)\u001b[0m\u001b[1;33m\u001b[0m\u001b[1;33m\u001b[0m\u001b[0m\n",
      "\u001b[1;32m~\\Anaconda3\\lib\\site-packages\\pandas\\core\\generic.py\u001b[0m in \u001b[0;36mto_sql\u001b[1;34m(self, name, con, schema, if_exists, index, index_label, chunksize, dtype, method)\u001b[0m\n\u001b[0;32m   2651\u001b[0m         \u001b[1;32mfrom\u001b[0m \u001b[0mpandas\u001b[0m\u001b[1;33m.\u001b[0m\u001b[0mio\u001b[0m \u001b[1;32mimport\u001b[0m \u001b[0msql\u001b[0m\u001b[1;33m\u001b[0m\u001b[1;33m\u001b[0m\u001b[0m\n\u001b[0;32m   2652\u001b[0m \u001b[1;33m\u001b[0m\u001b[0m\n\u001b[1;32m-> 2653\u001b[1;33m         sql.to_sql(\n\u001b[0m\u001b[0;32m   2654\u001b[0m             \u001b[0mself\u001b[0m\u001b[1;33m,\u001b[0m\u001b[1;33m\u001b[0m\u001b[1;33m\u001b[0m\u001b[0m\n\u001b[0;32m   2655\u001b[0m             \u001b[0mname\u001b[0m\u001b[1;33m,\u001b[0m\u001b[1;33m\u001b[0m\u001b[1;33m\u001b[0m\u001b[0m\n",
      "\u001b[1;32m~\\Anaconda3\\lib\\site-packages\\pandas\\io\\sql.py\u001b[0m in \u001b[0;36mto_sql\u001b[1;34m(frame, name, con, schema, if_exists, index, index_label, chunksize, dtype, method)\u001b[0m\n\u001b[0;32m    510\u001b[0m         )\n\u001b[0;32m    511\u001b[0m \u001b[1;33m\u001b[0m\u001b[0m\n\u001b[1;32m--> 512\u001b[1;33m     pandas_sql.to_sql(\n\u001b[0m\u001b[0;32m    513\u001b[0m         \u001b[0mframe\u001b[0m\u001b[1;33m,\u001b[0m\u001b[1;33m\u001b[0m\u001b[1;33m\u001b[0m\u001b[0m\n\u001b[0;32m    514\u001b[0m         \u001b[0mname\u001b[0m\u001b[1;33m,\u001b[0m\u001b[1;33m\u001b[0m\u001b[1;33m\u001b[0m\u001b[0m\n",
      "\u001b[1;32m~\\Anaconda3\\lib\\site-packages\\pandas\\io\\sql.py\u001b[0m in \u001b[0;36mto_sql\u001b[1;34m(self, frame, name, if_exists, index, index_label, schema, chunksize, dtype, method)\u001b[0m\n\u001b[0;32m   1731\u001b[0m             \u001b[0mdtype\u001b[0m\u001b[1;33m=\u001b[0m\u001b[0mdtype\u001b[0m\u001b[1;33m,\u001b[0m\u001b[1;33m\u001b[0m\u001b[1;33m\u001b[0m\u001b[0m\n\u001b[0;32m   1732\u001b[0m         )\n\u001b[1;32m-> 1733\u001b[1;33m         \u001b[0mtable\u001b[0m\u001b[1;33m.\u001b[0m\u001b[0mcreate\u001b[0m\u001b[1;33m(\u001b[0m\u001b[1;33m)\u001b[0m\u001b[1;33m\u001b[0m\u001b[1;33m\u001b[0m\u001b[0m\n\u001b[0m\u001b[0;32m   1734\u001b[0m         \u001b[0mtable\u001b[0m\u001b[1;33m.\u001b[0m\u001b[0minsert\u001b[0m\u001b[1;33m(\u001b[0m\u001b[0mchunksize\u001b[0m\u001b[1;33m,\u001b[0m \u001b[0mmethod\u001b[0m\u001b[1;33m)\u001b[0m\u001b[1;33m\u001b[0m\u001b[1;33m\u001b[0m\u001b[0m\n\u001b[0;32m   1735\u001b[0m \u001b[1;33m\u001b[0m\u001b[0m\n",
      "\u001b[1;32m~\\Anaconda3\\lib\\site-packages\\pandas\\io\\sql.py\u001b[0m in \u001b[0;36mcreate\u001b[1;34m(self)\u001b[0m\n\u001b[0;32m    642\u001b[0m \u001b[1;33m\u001b[0m\u001b[0m\n\u001b[0;32m    643\u001b[0m     \u001b[1;32mdef\u001b[0m \u001b[0mcreate\u001b[0m\u001b[1;33m(\u001b[0m\u001b[0mself\u001b[0m\u001b[1;33m)\u001b[0m\u001b[1;33m:\u001b[0m\u001b[1;33m\u001b[0m\u001b[1;33m\u001b[0m\u001b[0m\n\u001b[1;32m--> 644\u001b[1;33m         \u001b[1;32mif\u001b[0m \u001b[0mself\u001b[0m\u001b[1;33m.\u001b[0m\u001b[0mexists\u001b[0m\u001b[1;33m(\u001b[0m\u001b[1;33m)\u001b[0m\u001b[1;33m:\u001b[0m\u001b[1;33m\u001b[0m\u001b[1;33m\u001b[0m\u001b[0m\n\u001b[0m\u001b[0;32m    645\u001b[0m             \u001b[1;32mif\u001b[0m \u001b[0mself\u001b[0m\u001b[1;33m.\u001b[0m\u001b[0mif_exists\u001b[0m \u001b[1;33m==\u001b[0m \u001b[1;34m\"fail\"\u001b[0m\u001b[1;33m:\u001b[0m\u001b[1;33m\u001b[0m\u001b[1;33m\u001b[0m\u001b[0m\n\u001b[0;32m    646\u001b[0m                 \u001b[1;32mraise\u001b[0m \u001b[0mValueError\u001b[0m\u001b[1;33m(\u001b[0m\u001b[1;34mf\"Table '{self.name}' already exists.\"\u001b[0m\u001b[1;33m)\u001b[0m\u001b[1;33m\u001b[0m\u001b[1;33m\u001b[0m\u001b[0m\n",
      "\u001b[1;32m~\\Anaconda3\\lib\\site-packages\\pandas\\io\\sql.py\u001b[0m in \u001b[0;36mexists\u001b[1;34m(self)\u001b[0m\n\u001b[0;32m    629\u001b[0m \u001b[1;33m\u001b[0m\u001b[0m\n\u001b[0;32m    630\u001b[0m     \u001b[1;32mdef\u001b[0m \u001b[0mexists\u001b[0m\u001b[1;33m(\u001b[0m\u001b[0mself\u001b[0m\u001b[1;33m)\u001b[0m\u001b[1;33m:\u001b[0m\u001b[1;33m\u001b[0m\u001b[1;33m\u001b[0m\u001b[0m\n\u001b[1;32m--> 631\u001b[1;33m         \u001b[1;32mreturn\u001b[0m \u001b[0mself\u001b[0m\u001b[1;33m.\u001b[0m\u001b[0mpd_sql\u001b[0m\u001b[1;33m.\u001b[0m\u001b[0mhas_table\u001b[0m\u001b[1;33m(\u001b[0m\u001b[0mself\u001b[0m\u001b[1;33m.\u001b[0m\u001b[0mname\u001b[0m\u001b[1;33m,\u001b[0m \u001b[0mself\u001b[0m\u001b[1;33m.\u001b[0m\u001b[0mschema\u001b[0m\u001b[1;33m)\u001b[0m\u001b[1;33m\u001b[0m\u001b[1;33m\u001b[0m\u001b[0m\n\u001b[0m\u001b[0;32m    632\u001b[0m \u001b[1;33m\u001b[0m\u001b[0m\n\u001b[0;32m    633\u001b[0m     \u001b[1;32mdef\u001b[0m \u001b[0msql_schema\u001b[0m\u001b[1;33m(\u001b[0m\u001b[0mself\u001b[0m\u001b[1;33m)\u001b[0m\u001b[1;33m:\u001b[0m\u001b[1;33m\u001b[0m\u001b[1;33m\u001b[0m\u001b[0m\n",
      "\u001b[1;32m~\\Anaconda3\\lib\\site-packages\\pandas\\io\\sql.py\u001b[0m in \u001b[0;36mhas_table\u001b[1;34m(self, name, schema)\u001b[0m\n\u001b[0;32m   1742\u001b[0m         \u001b[0mquery\u001b[0m \u001b[1;33m=\u001b[0m \u001b[1;34mf\"SELECT name FROM sqlite_master WHERE type='table' AND name={wld};\"\u001b[0m\u001b[1;33m\u001b[0m\u001b[1;33m\u001b[0m\u001b[0m\n\u001b[0;32m   1743\u001b[0m \u001b[1;33m\u001b[0m\u001b[0m\n\u001b[1;32m-> 1744\u001b[1;33m         \u001b[1;32mreturn\u001b[0m \u001b[0mlen\u001b[0m\u001b[1;33m(\u001b[0m\u001b[0mself\u001b[0m\u001b[1;33m.\u001b[0m\u001b[0mexecute\u001b[0m\u001b[1;33m(\u001b[0m\u001b[0mquery\u001b[0m\u001b[1;33m,\u001b[0m \u001b[1;33m[\u001b[0m\u001b[0mname\u001b[0m\u001b[1;33m]\u001b[0m\u001b[1;33m)\u001b[0m\u001b[1;33m.\u001b[0m\u001b[0mfetchall\u001b[0m\u001b[1;33m(\u001b[0m\u001b[1;33m)\u001b[0m\u001b[1;33m)\u001b[0m \u001b[1;33m>\u001b[0m \u001b[1;36m0\u001b[0m\u001b[1;33m\u001b[0m\u001b[1;33m\u001b[0m\u001b[0m\n\u001b[0m\u001b[0;32m   1745\u001b[0m \u001b[1;33m\u001b[0m\u001b[0m\n\u001b[0;32m   1746\u001b[0m     \u001b[1;32mdef\u001b[0m \u001b[0mget_table\u001b[0m\u001b[1;33m(\u001b[0m\u001b[0mself\u001b[0m\u001b[1;33m,\u001b[0m \u001b[0mtable_name\u001b[0m\u001b[1;33m,\u001b[0m \u001b[0mschema\u001b[0m\u001b[1;33m=\u001b[0m\u001b[1;32mNone\u001b[0m\u001b[1;33m)\u001b[0m\u001b[1;33m:\u001b[0m\u001b[1;33m\u001b[0m\u001b[1;33m\u001b[0m\u001b[0m\n",
      "\u001b[1;32m~\\Anaconda3\\lib\\site-packages\\pandas\\io\\sql.py\u001b[0m in \u001b[0;36mexecute\u001b[1;34m(self, *args, **kwargs)\u001b[0m\n\u001b[0;32m   1582\u001b[0m             \u001b[0mcur\u001b[0m \u001b[1;33m=\u001b[0m \u001b[0mself\u001b[0m\u001b[1;33m.\u001b[0m\u001b[0mcon\u001b[0m\u001b[1;33m\u001b[0m\u001b[1;33m\u001b[0m\u001b[0m\n\u001b[0;32m   1583\u001b[0m         \u001b[1;32melse\u001b[0m\u001b[1;33m:\u001b[0m\u001b[1;33m\u001b[0m\u001b[1;33m\u001b[0m\u001b[0m\n\u001b[1;32m-> 1584\u001b[1;33m             \u001b[0mcur\u001b[0m \u001b[1;33m=\u001b[0m \u001b[0mself\u001b[0m\u001b[1;33m.\u001b[0m\u001b[0mcon\u001b[0m\u001b[1;33m.\u001b[0m\u001b[0mcursor\u001b[0m\u001b[1;33m(\u001b[0m\u001b[1;33m)\u001b[0m\u001b[1;33m\u001b[0m\u001b[1;33m\u001b[0m\u001b[0m\n\u001b[0m\u001b[0;32m   1585\u001b[0m         \u001b[1;32mtry\u001b[0m\u001b[1;33m:\u001b[0m\u001b[1;33m\u001b[0m\u001b[1;33m\u001b[0m\u001b[0m\n\u001b[0;32m   1586\u001b[0m             \u001b[0mcur\u001b[0m\u001b[1;33m.\u001b[0m\u001b[0mexecute\u001b[0m\u001b[1;33m(\u001b[0m\u001b[1;33m*\u001b[0m\u001b[0margs\u001b[0m\u001b[1;33m,\u001b[0m \u001b[1;33m**\u001b[0m\u001b[0mkwargs\u001b[0m\u001b[1;33m)\u001b[0m\u001b[1;33m\u001b[0m\u001b[1;33m\u001b[0m\u001b[0m\n",
      "\u001b[1;31mProgrammingError\u001b[0m: Cannot operate on a closed database."
     ]
    }
   ],
   "source": [
    "# https://www.bcb.gov.br/htms/SELIC/SELICdiarios.asp?frame=1\n",
    "selic = pd.read_json('http://api.bcb.gov.br/dados/serie/bcdata.sgs.{}/dados?formato=json'.format(11))\n",
    "selic['data'] = pd.to_datetime(selic['data'], format = '%d/%m/%Y')\n",
    "selic['valor'] = selic['valor']/100 \n",
    "#calculates decimal rate from the percentual value\n",
    "selic.rename(columns = {'data':'DT_COTACAO', 'valor':'TAXA'}, inplace = True)\n",
    "#selic=selic.style.format({'TAXA':'{:10.9f}'})\n",
    "\n",
    "# cria coluna MES_COMPTC (para auxiliar mais adiante)\n",
    "selic['MES_COTACAO']=selic['DT_COTACAO'].apply(lambda x : x.replace(day=1))\n",
    "selic=selic[['DT_COTACAO','TAXA','MES_COTACAO']]\n",
    "\n",
    "\n",
    "#\n",
    "# encontra a ultima data de cada mês\n",
    "#\n",
    "selic_dt = selic.groupby(['MES_COTACAO']).agg({'DT_COTACAO':'max'})\n",
    "selic_dt = selic_dt.reset_index()\n",
    "meses = selic_dt['MES_COTACAO']\n",
    "selic_dt = selic_dt.drop(['MES_COTACAO'], axis=1)\n",
    "selic_dt.rename(columns={'DT_COTACAO':'UltimoDiaMes'}, inplace=True)\n",
    "\n",
    "#\n",
    "# exclui datas desnecessárias do dataframe\n",
    "#\n",
    "print('selic contem:')\n",
    "print(selic.shape)\n",
    "print('-'*75)\n",
    "print('excluindo datas desnecessárias....')\n",
    "selic= selic[selic['DT_COTACAO'].isin(selic_dt['UltimoDiaMes'])]\n",
    "print('selic contem:')\n",
    "print(selic.shape)\n",
    "\n",
    "selic.to_sql('tbl_selic', conn , index=False) \n",
    "print('-'*75)\n"
   ]
  },
  {
   "cell_type": "markdown",
   "metadata": {},
   "source": [
    "<a id =8> </a><br>\n",
    "### Tratamento de dados"
   ]
  },
  {
   "cell_type": "markdown",
   "metadata": {},
   "source": [
    "<div class=\"alert-warning\">    \n",
    "    <h4><br>&nbsp; Tratando datas no dataframe <u>df</u>...<br>\n",
    "            &nbsp; Criando campo mês competência....<br>\n",
    "            &nbsp; Limpando caraceteres especiais do CNPJ...        \n",
    "        <br>\n",
    "    </h4>\n",
    "</div>"
   ]
  },
  {
   "cell_type": "code",
   "execution_count": null,
   "metadata": {},
   "outputs": [],
   "source": [
    "# converte coluna DT_COMPTC para tipo data\n",
    "df['DT_COMPTC'] =  pd.to_datetime(df['DT_COMPTC'], infer_datetime_format=True)\n",
    "\n",
    "# cria coluna MES_COMPTC (para auxiliar mais adiante)\n",
    "df['MES_COMPTC']=df['DT_COMPTC'].apply(lambda x : x.replace(day=1))\n",
    "\n",
    "#Trata caracteres especiais no cnpj\n",
    "df['CNPJ_FUNDO']=df['CNPJ_FUNDO'].str.replace(r'\\D', '')\n",
    "\n",
    "ultimo_pregao = df['DT_COMPTC'].max()\n",
    "ultimo_pregao"
   ]
  },
  {
   "cell_type": "markdown",
   "metadata": {},
   "source": [
    "<div class=\"alert-warning\">    \n",
    "    <h4><br>&nbsp; Última data de cada mês no dataframe <u>df</u>...<br>\n",
    "    </h4>\n",
    "</div>"
   ]
  },
  {
   "cell_type": "code",
   "execution_count": 50,
   "metadata": {},
   "outputs": [],
   "source": [
    "#\n",
    "# encontra a ultima data de cada mês\n",
    "#\n",
    "df_dt = df.groupby(['MES_COMPTC']).agg({'DT_COMPTC':'max'})\n",
    "df_dt = df_dt.reset_index()\n",
    "meses = df_dt['MES_COMPTC']\n",
    "df_dt = df_dt.drop(['MES_COMPTC'], axis=1)\n",
    "df_dt.rename(columns={'DT_COMPTC':'UltimoDiaMes'}, inplace=True)\n"
   ]
  },
  {
   "cell_type": "markdown",
   "metadata": {},
   "source": [
    "<div class=\"alert-warning\">    \n",
    "    <h4><br>&nbsp; Tratando datas no dataframe <u>df2</u>...<br>\n",
    "            &nbsp; Criando campo mês competência....<br>\n",
    "            &nbsp; Limpando caraceteres especiais do CNPJ...        \n",
    "        <br>\n",
    "    </h4>\n",
    "</div>"
   ]
  },
  {
   "cell_type": "code",
   "execution_count": 10,
   "metadata": {},
   "outputs": [],
   "source": [
    "# converte coluna DT_COMPTC para tipo data\n",
    "df2['DT_COMPTC'] =  pd.to_datetime(df2['DT_COMPTC'], infer_datetime_format=True)\n",
    "\n",
    "# cria coluna MES_COMPTC (para auxiliar mais adiante)\n",
    "df2['MES_COMPTC']=df2['DT_COMPTC'].apply(lambda x : x.replace(day=1))\n",
    "\n",
    "#Trata caracteres especiais no cnpj\n",
    "df2['CNPJ_FUNDO']=df2['CNPJ_FUNDO'].str.replace(r'\\D', '')"
   ]
  },
  {
   "cell_type": "markdown",
   "metadata": {},
   "source": [
    "<div class=\"alert-warning\">    \n",
    "    <h4><br>&nbsp; Última data de cada mês no dataframe <u>df2</u>...<br>\n",
    "    </h4>\n",
    "</div>"
   ]
  },
  {
   "cell_type": "code",
   "execution_count": 11,
   "metadata": {},
   "outputs": [],
   "source": [
    "#\n",
    "# encontra a ultima data de cada mês\n",
    "#\n",
    "df_dt2 = df2.groupby(['MES_COMPTC']).agg({'DT_COMPTC':'max'})\n",
    "df_dt2 = df_dt2.reset_index()\n",
    "df_dt2 = df_dt2.drop(['MES_COMPTC'], axis=1)\n",
    "df_dt2.rename(columns={'DT_COMPTC':'UltimoDiaMes'}, inplace=True)"
   ]
  },
  {
   "cell_type": "markdown",
   "metadata": {},
   "source": [
    "<a id =9> </a><br>\n",
    "### Exclui dados desnecessários\n",
    "<br>posições intermediárias do mês"
   ]
  },
  {
   "cell_type": "markdown",
   "metadata": {},
   "source": [
    "<div class=\"alert-warning\">    \n",
    "    <h4><br>&nbsp;\n",
    "        Exclui colunas desnecessárias dos dataframes...\n",
    "        <br>\n",
    "    </h4>\n",
    "</div>\n"
   ]
  },
  {
   "cell_type": "code",
   "execution_count": 12,
   "metadata": {},
   "outputs": [],
   "source": [
    "# drop by Name\n",
    "df = df.drop(la.lst_campos_excluir, axis=1)\n",
    "df2 = df2.drop(la.lst_campos_excluir2, axis=1)"
   ]
  },
  {
   "cell_type": "markdown",
   "metadata": {},
   "source": [
    "<div class=\"alert-warning\">    \n",
    "    <h4><br>&nbsp;\n",
    "        Exclui datas desnecessárias do dataframe <u>df</u>...\n",
    "        <br>\n",
    "    </h4>\n",
    "</div>\n"
   ]
  },
  {
   "cell_type": "code",
   "execution_count": 54,
   "metadata": {},
   "outputs": [
    {
     "name": "stdout",
     "output_type": "stream",
     "text": [
      "df contem:\n",
      "(1112007, 6)\n",
      "---------------------------------------------------------------------------\n",
      "excluindo datas desnecessárias....\n",
      "df contem:\n",
      "(61696, 6)\n",
      "---------------------------------------------------------------------------\n"
     ]
    }
   ],
   "source": [
    "#\n",
    "# exclui datas desnecessárias do dataframe\n",
    "#\n",
    "print('df contem:')\n",
    "print(df.shape)\n",
    "print('-'*75)\n",
    "print('excluindo datas desnecessárias....')\n",
    "df= df[df['DT_COMPTC'].isin(df_dt['UltimoDiaMes'])]\n",
    "print('df contem:')\n",
    "print(df.shape)\n",
    "print('-'*75)\n"
   ]
  },
  {
   "cell_type": "markdown",
   "metadata": {},
   "source": [
    "<div class=\"alert-warning\">    \n",
    "    <h4><br>&nbsp;\n",
    "            Exclui datas desnecessárias do dataframe <u>df2</u>...\n",
    "        <br>\n",
    "    </h4>\n",
    "</div>\n"
   ]
  },
  {
   "cell_type": "code",
   "execution_count": 13,
   "metadata": {},
   "outputs": [
    {
     "name": "stdout",
     "output_type": "stream",
     "text": [
      "df2 contem:\n",
      "(73645, 50)\n",
      "---------------------------------------------------------------------------\n",
      "excluindo datas desnecessárias....\n",
      "df2 contem:\n",
      "(4198, 50)\n",
      "---------------------------------------------------------------------------\n"
     ]
    }
   ],
   "source": [
    "#\n",
    "# exclui datas desnecessárias do dataframe\n",
    "#\n",
    "print('df2 contem:')\n",
    "print(df2.shape)\n",
    "print('-'*75)\n",
    "print('excluindo datas desnecessárias....')\n",
    "df2 = df2[df2['DT_COMPTC'].isin(df_dt2['UltimoDiaMes'])]\n",
    "print('df2 contem:')\n",
    "print(df2.shape)\n",
    "print('-'*75)\n",
    "\n",
    "#\n",
    "# refaz o índice\n",
    "#\n",
    "df2.sort_values(by=['CNPJ_FUNDO','DT_COMPTC'], inplace=True, ascending=[True, False])\n",
    "df2 = df2.reset_index(drop=True)"
   ]
  },
  {
   "cell_type": "code",
   "execution_count": 56,
   "metadata": {},
   "outputs": [],
   "source": [
    "#\n",
    "# refaz o índice\n",
    "#\n",
    "\n",
    "df.sort_values(by=['CNPJ_FUNDO','DT_COMPTC'], inplace=True, ascending=[True, True])\n",
    "df = df.reset_index(drop=True)"
   ]
  },
  {
   "cell_type": "code",
   "execution_count": 57,
   "metadata": {},
   "outputs": [
    {
     "data": {
      "text/html": [
       "<div>\n",
       "<style scoped>\n",
       "    .dataframe tbody tr th:only-of-type {\n",
       "        vertical-align: middle;\n",
       "    }\n",
       "\n",
       "    .dataframe tbody tr th {\n",
       "        vertical-align: top;\n",
       "    }\n",
       "\n",
       "    .dataframe thead th {\n",
       "        text-align: right;\n",
       "    }\n",
       "</style>\n",
       "<table border=\"1\" class=\"dataframe\">\n",
       "  <thead>\n",
       "    <tr style=\"text-align: right;\">\n",
       "      <th></th>\n",
       "      <th>CNPJ_FUNDO</th>\n",
       "      <th>DT_COMPTC</th>\n",
       "      <th>VL_TOTAL</th>\n",
       "      <th>VL_QUOTA</th>\n",
       "      <th>VL_PATRIM_LIQ</th>\n",
       "      <th>MES_COMPTC</th>\n",
       "    </tr>\n",
       "  </thead>\n",
       "  <tbody>\n",
       "    <tr>\n",
       "      <th>0</th>\n",
       "      <td>00017024000153</td>\n",
       "      <td>2021-04-30</td>\n",
       "      <td>1078817.89</td>\n",
       "      <td>27.43</td>\n",
       "      <td>1078492.85</td>\n",
       "      <td>2021-04-01</td>\n",
       "    </tr>\n",
       "    <tr>\n",
       "      <th>1</th>\n",
       "      <td>00017024000153</td>\n",
       "      <td>2021-05-31</td>\n",
       "      <td>1072969.15</td>\n",
       "      <td>27.47</td>\n",
       "      <td>1076828.38</td>\n",
       "      <td>2021-05-01</td>\n",
       "    </tr>\n",
       "    <tr>\n",
       "      <th>2</th>\n",
       "      <td>00017024000153</td>\n",
       "      <td>2021-06-18</td>\n",
       "      <td>1073659.96</td>\n",
       "      <td>27.49</td>\n",
       "      <td>1074717.51</td>\n",
       "      <td>2021-06-01</td>\n",
       "    </tr>\n",
       "    <tr>\n",
       "      <th>3</th>\n",
       "      <td>00068305000135</td>\n",
       "      <td>2021-04-30</td>\n",
       "      <td>41643654.55</td>\n",
       "      <td>27.50</td>\n",
       "      <td>41628745.24</td>\n",
       "      <td>2021-04-01</td>\n",
       "    </tr>\n",
       "    <tr>\n",
       "      <th>4</th>\n",
       "      <td>00068305000135</td>\n",
       "      <td>2021-05-31</td>\n",
       "      <td>41121053.09</td>\n",
       "      <td>27.54</td>\n",
       "      <td>41068713.46</td>\n",
       "      <td>2021-05-01</td>\n",
       "    </tr>\n",
       "    <tr>\n",
       "      <th>...</th>\n",
       "      <td>...</td>\n",
       "      <td>...</td>\n",
       "      <td>...</td>\n",
       "      <td>...</td>\n",
       "      <td>...</td>\n",
       "      <td>...</td>\n",
       "    </tr>\n",
       "    <tr>\n",
       "      <th>61691</th>\n",
       "      <td>97929197000180</td>\n",
       "      <td>2021-05-31</td>\n",
       "      <td>220285167.02</td>\n",
       "      <td>7.06</td>\n",
       "      <td>217142819.69</td>\n",
       "      <td>2021-05-01</td>\n",
       "    </tr>\n",
       "    <tr>\n",
       "      <th>61692</th>\n",
       "      <td>97929197000180</td>\n",
       "      <td>2021-06-18</td>\n",
       "      <td>220779921.37</td>\n",
       "      <td>7.08</td>\n",
       "      <td>217834119.10</td>\n",
       "      <td>2021-06-01</td>\n",
       "    </tr>\n",
       "    <tr>\n",
       "      <th>61693</th>\n",
       "      <td>97929213000134</td>\n",
       "      <td>2021-04-30</td>\n",
       "      <td>72480985.48</td>\n",
       "      <td>9.54</td>\n",
       "      <td>72470912.77</td>\n",
       "      <td>2021-04-01</td>\n",
       "    </tr>\n",
       "    <tr>\n",
       "      <th>61694</th>\n",
       "      <td>97929213000134</td>\n",
       "      <td>2021-05-31</td>\n",
       "      <td>72897731.19</td>\n",
       "      <td>9.59</td>\n",
       "      <td>72886094.48</td>\n",
       "      <td>2021-05-01</td>\n",
       "    </tr>\n",
       "    <tr>\n",
       "      <th>61695</th>\n",
       "      <td>97929213000134</td>\n",
       "      <td>2021-06-18</td>\n",
       "      <td>72646229.94</td>\n",
       "      <td>9.56</td>\n",
       "      <td>72636580.34</td>\n",
       "      <td>2021-06-01</td>\n",
       "    </tr>\n",
       "  </tbody>\n",
       "</table>\n",
       "<p>61696 rows × 6 columns</p>\n",
       "</div>"
      ],
      "text/plain": [
       "           CNPJ_FUNDO  DT_COMPTC     VL_TOTAL  VL_QUOTA  VL_PATRIM_LIQ  \\\n",
       "0      00017024000153 2021-04-30   1078817.89     27.43     1078492.85   \n",
       "1      00017024000153 2021-05-31   1072969.15     27.47     1076828.38   \n",
       "2      00017024000153 2021-06-18   1073659.96     27.49     1074717.51   \n",
       "3      00068305000135 2021-04-30  41643654.55     27.50    41628745.24   \n",
       "4      00068305000135 2021-05-31  41121053.09     27.54    41068713.46   \n",
       "...               ...        ...          ...       ...            ...   \n",
       "61691  97929197000180 2021-05-31 220285167.02      7.06   217142819.69   \n",
       "61692  97929197000180 2021-06-18 220779921.37      7.08   217834119.10   \n",
       "61693  97929213000134 2021-04-30  72480985.48      9.54    72470912.77   \n",
       "61694  97929213000134 2021-05-31  72897731.19      9.59    72886094.48   \n",
       "61695  97929213000134 2021-06-18  72646229.94      9.56    72636580.34   \n",
       "\n",
       "      MES_COMPTC  \n",
       "0     2021-04-01  \n",
       "1     2021-05-01  \n",
       "2     2021-06-01  \n",
       "3     2021-04-01  \n",
       "4     2021-05-01  \n",
       "...          ...  \n",
       "61691 2021-05-01  \n",
       "61692 2021-06-01  \n",
       "61693 2021-04-01  \n",
       "61694 2021-05-01  \n",
       "61695 2021-06-01  \n",
       "\n",
       "[61696 rows x 6 columns]"
      ]
     },
     "execution_count": 57,
     "metadata": {},
     "output_type": "execute_result"
    }
   ],
   "source": [
    "df"
   ]
  },
  {
   "cell_type": "markdown",
   "metadata": {},
   "source": [
    "<div class=\"alert-warning\">    \n",
    "    <h4><br>&nbsp;\n",
    "            VACUUM no SQLite\n",
    "        <br>\n",
    "    </h4>\n",
    "</div>\n"
   ]
  },
  {
   "cell_type": "code",
   "execution_count": 58,
   "metadata": {},
   "outputs": [
    {
     "name": "stdout",
     "output_type": "stream",
     "text": [
      "---------------------------------------------------------------------------\n",
      " - Inicio da otimização: 23/06/2021 00:09:37\n",
      " - Fim da otimização:    23/06/2021 00:09:45\n",
      "---------------------------------------------------------------------------\n"
     ]
    }
   ],
   "source": [
    "print('-'*75)\n",
    "conn = sql.connect('investdb.db')\n",
    "print(' - Inicio da otimização: ' + fa.agora())\n",
    "fa.otimizarSQLite(conn)\n",
    "print(' - Fim da otimização:    ' + fa.agora())\n",
    "print('-'*75)"
   ]
  },
  {
   "cell_type": "markdown",
   "metadata": {},
   "source": [
    "<div class=\"alert-warning\">    \n",
    "    <h4><br>&nbsp;\n",
    "            Agrupando meses e contando registros a serem importados...\n",
    "        <br>\n",
    "    </h4>\n",
    "</div>\n"
   ]
  },
  {
   "cell_type": "code",
   "execution_count": 65,
   "metadata": {},
   "outputs": [
    {
     "data": {
      "text/html": [
       "<div>\n",
       "<style scoped>\n",
       "    .dataframe tbody tr th:only-of-type {\n",
       "        vertical-align: middle;\n",
       "    }\n",
       "\n",
       "    .dataframe tbody tr th {\n",
       "        vertical-align: top;\n",
       "    }\n",
       "\n",
       "    .dataframe thead th {\n",
       "        text-align: right;\n",
       "    }\n",
       "</style>\n",
       "<table border=\"1\" class=\"dataframe\">\n",
       "  <thead>\n",
       "    <tr style=\"text-align: right;\">\n",
       "      <th></th>\n",
       "      <th>MES_COMPTC</th>\n",
       "      <th>QUANTIDADE</th>\n",
       "    </tr>\n",
       "  </thead>\n",
       "  <tbody>\n",
       "    <tr>\n",
       "      <th>0</th>\n",
       "      <td>2021-04-01</td>\n",
       "      <td>20525</td>\n",
       "    </tr>\n",
       "    <tr>\n",
       "      <th>1</th>\n",
       "      <td>2021-05-01</td>\n",
       "      <td>20811</td>\n",
       "    </tr>\n",
       "    <tr>\n",
       "      <th>2</th>\n",
       "      <td>2021-06-01</td>\n",
       "      <td>20360</td>\n",
       "    </tr>\n",
       "  </tbody>\n",
       "</table>\n",
       "</div>"
      ],
      "text/plain": [
       "  MES_COMPTC  QUANTIDADE\n",
       "0 2021-04-01       20525\n",
       "1 2021-05-01       20811\n",
       "2 2021-06-01       20360"
      ]
     },
     "execution_count": 65,
     "metadata": {},
     "output_type": "execute_result"
    }
   ],
   "source": [
    "# Agrupando...\n",
    "#df.groupby(['DT_COMPTC']).count()\n",
    "#df.groupby(['MES_COMPTC']).agg(['mean','count'])\n",
    "\n",
    "df.groupby(['MES_COMPTC']).size().reset_index(name='QUANTIDADE')"
   ]
  },
  {
   "cell_type": "markdown",
   "metadata": {},
   "source": [
    "<div class=\"alert-warning\">    \n",
    "    <h4><br>&nbsp;\n",
    "            Carga das cotas atualizadas no SQLite\n",
    "        <br>\n",
    "    </h4>\n",
    "</div>\n"
   ]
  },
  {
   "cell_type": "code",
   "execution_count": null,
   "metadata": {},
   "outputs": [],
   "source": [
    "#\n",
    "# faz carga no banco de dados\n",
    "#\n",
    "print(' - Inicio da importação do dataframe p o sql: ' + fa.agora())\n",
    "df.to_sql('tbl_cotas', conn,  schema='investdb',index = False, if_exists='append')\n",
    "print(' - Fim da importação do dataframe: ' + fa.agora())\n",
    "print('-'*75)"
   ]
  },
  {
   "cell_type": "markdown",
   "metadata": {},
   "source": [
    "<div class=\"alert-warning\">    \n",
    "    <h4><br>&nbsp;\n",
    "            Carga das caracteristicas atualizadas no SQLite\n",
    "        <br>\n",
    "    </h4>\n",
    "</div>"
   ]
  },
  {
   "cell_type": "code",
   "execution_count": 22,
   "metadata": {},
   "outputs": [
    {
     "data": {
      "text/html": [
       "<div>\n",
       "<style scoped>\n",
       "    .dataframe tbody tr th:only-of-type {\n",
       "        vertical-align: middle;\n",
       "    }\n",
       "\n",
       "    .dataframe tbody tr th {\n",
       "        vertical-align: top;\n",
       "    }\n",
       "\n",
       "    .dataframe thead th {\n",
       "        text-align: right;\n",
       "    }\n",
       "</style>\n",
       "<table border=\"1\" class=\"dataframe\">\n",
       "  <thead>\n",
       "    <tr style=\"text-align: right;\">\n",
       "      <th></th>\n",
       "      <th>CNPJ_FUNDO</th>\n",
       "      <th>DENOM_SOCIAL</th>\n",
       "      <th>DT_COMPTC</th>\n",
       "      <th>CONDOM</th>\n",
       "      <th>PUBLICO_ALVO</th>\n",
       "      <th>CLASSE_ANBIMA</th>\n",
       "      <th>FUNDO_ESPELHO</th>\n",
       "      <th>APLIC_MIN</th>\n",
       "      <th>QT_DIA_PAGTO_RESGATE</th>\n",
       "      <th>TP_DIA_PAGTO_RESGATE</th>\n",
       "      <th>...</th>\n",
       "      <th>PR_ACAO_MAX</th>\n",
       "      <th>PR_DEBENTURE_MIN</th>\n",
       "      <th>PR_DEBENTURE_MAX</th>\n",
       "      <th>PR_DERIV_MIN</th>\n",
       "      <th>PR_DERIV_MAX</th>\n",
       "      <th>PR_COTA_FIP_MIN</th>\n",
       "      <th>PR_COTA_FIP_MAX</th>\n",
       "      <th>PR_COTA_FICFIP_MIN</th>\n",
       "      <th>PR_COTA_FICFIP_MAX</th>\n",
       "      <th>MES_COMPTC</th>\n",
       "    </tr>\n",
       "  </thead>\n",
       "  <tbody>\n",
       "    <tr>\n",
       "      <th>1</th>\n",
       "      <td>00068305000135</td>\n",
       "      <td>FUNDO DE INVESTIMENTO EM COTAS DE FUNDOS DE IN...</td>\n",
       "      <td>2020-10-30</td>\n",
       "      <td>ABERTO</td>\n",
       "      <td>PÚBLICO EM GERAL</td>\n",
       "      <td>RENDA FIXA LIVRE DURAÇÃO - GRAU DE INVESTIMENTO</td>\n",
       "      <td>S</td>\n",
       "      <td>0.00</td>\n",
       "      <td>0</td>\n",
       "      <td>DIAS ÚTEIS</td>\n",
       "      <td>...</td>\n",
       "      <td>0.00</td>\n",
       "      <td>0.00</td>\n",
       "      <td>0.00</td>\n",
       "      <td>0.00</td>\n",
       "      <td>0.00</td>\n",
       "      <td>0.00</td>\n",
       "      <td>0.00</td>\n",
       "      <td>0.00</td>\n",
       "      <td>0.00</td>\n",
       "      <td>2020-10-01</td>\n",
       "    </tr>\n",
       "    <tr>\n",
       "      <th>3</th>\n",
       "      <td>00083181000167</td>\n",
       "      <td>OPP I FUNDO DE INVESTIMENTO EM AÇÕES BDR NÍVEL...</td>\n",
       "      <td>2019-09-30</td>\n",
       "      <td>FECHADO</td>\n",
       "      <td>INVESTIDORES PROFISSIONAIS</td>\n",
       "      <td>AÇÕES - FUNDOS FECHADOS</td>\n",
       "      <td>NaN</td>\n",
       "      <td>0.00</td>\n",
       "      <td>3</td>\n",
       "      <td>DIAS ÚTEIS</td>\n",
       "      <td>...</td>\n",
       "      <td>0.00</td>\n",
       "      <td>0.00</td>\n",
       "      <td>33.00</td>\n",
       "      <td>0.00</td>\n",
       "      <td>0.00</td>\n",
       "      <td>0.00</td>\n",
       "      <td>33.00</td>\n",
       "      <td>0.00</td>\n",
       "      <td>33.00</td>\n",
       "      <td>2019-09-01</td>\n",
       "    </tr>\n",
       "    <tr>\n",
       "      <th>4</th>\n",
       "      <td>00346750000110</td>\n",
       "      <td>NIC YIELD FUNDO DE INVESTIMENTO EM COTAS DE FU...</td>\n",
       "      <td>2016-06-30</td>\n",
       "      <td>ABERTO</td>\n",
       "      <td>PÚBLICO EM GERAL</td>\n",
       "      <td>MULTIMERCADO - ESTRATÉGIA - JUROS E MOEDAS</td>\n",
       "      <td>N</td>\n",
       "      <td>500.00</td>\n",
       "      <td>1</td>\n",
       "      <td>DIAS ÚTEIS</td>\n",
       "      <td>...</td>\n",
       "      <td>0.00</td>\n",
       "      <td>0.00</td>\n",
       "      <td>0.00</td>\n",
       "      <td>0.00</td>\n",
       "      <td>0.00</td>\n",
       "      <td>0.00</td>\n",
       "      <td>0.00</td>\n",
       "      <td>0.00</td>\n",
       "      <td>0.00</td>\n",
       "      <td>2016-06-01</td>\n",
       "    </tr>\n",
       "    <tr>\n",
       "      <th>6</th>\n",
       "      <td>00598452000117</td>\n",
       "      <td>MB MASTER REFERENCIADO DI LONGO PRAZO FUNDO DE...</td>\n",
       "      <td>2016-05-31</td>\n",
       "      <td>ABERTO</td>\n",
       "      <td>PÚBLICO EM GERAL</td>\n",
       "      <td>RENDA FIXA BAIXA DURAÇÃO - GRAU DE INVESTIMENTO</td>\n",
       "      <td>NaN</td>\n",
       "      <td>0.00</td>\n",
       "      <td>0</td>\n",
       "      <td>DIAS ÚTEIS</td>\n",
       "      <td>...</td>\n",
       "      <td>0.00</td>\n",
       "      <td>0.00</td>\n",
       "      <td>5.00</td>\n",
       "      <td>0.00</td>\n",
       "      <td>100.00</td>\n",
       "      <td>0.00</td>\n",
       "      <td>10.00</td>\n",
       "      <td>0.00</td>\n",
       "      <td>10.00</td>\n",
       "      <td>2016-05-01</td>\n",
       "    </tr>\n",
       "    <tr>\n",
       "      <th>9</th>\n",
       "      <td>00601692000123</td>\n",
       "      <td>FAMA FUNDO DE INVESTIMENTO EM COTAS DE FUNDOS ...</td>\n",
       "      <td>2016-02-29</td>\n",
       "      <td>ABERTO</td>\n",
       "      <td>PÚBLICO EM GERAL</td>\n",
       "      <td>AÇÕES - ATIVO - LIVRE</td>\n",
       "      <td>N</td>\n",
       "      <td>0.00</td>\n",
       "      <td>60</td>\n",
       "      <td>DIAS ÚTEIS</td>\n",
       "      <td>...</td>\n",
       "      <td>100.00</td>\n",
       "      <td>0.00</td>\n",
       "      <td>50.00</td>\n",
       "      <td>0.00</td>\n",
       "      <td>0.00</td>\n",
       "      <td>0.00</td>\n",
       "      <td>0.00</td>\n",
       "      <td>0.00</td>\n",
       "      <td>0.00</td>\n",
       "      <td>2016-02-01</td>\n",
       "    </tr>\n",
       "    <tr>\n",
       "      <th>...</th>\n",
       "      <td>...</td>\n",
       "      <td>...</td>\n",
       "      <td>...</td>\n",
       "      <td>...</td>\n",
       "      <td>...</td>\n",
       "      <td>...</td>\n",
       "      <td>...</td>\n",
       "      <td>...</td>\n",
       "      <td>...</td>\n",
       "      <td>...</td>\n",
       "      <td>...</td>\n",
       "      <td>...</td>\n",
       "      <td>...</td>\n",
       "      <td>...</td>\n",
       "      <td>...</td>\n",
       "      <td>...</td>\n",
       "      <td>...</td>\n",
       "      <td>...</td>\n",
       "      <td>...</td>\n",
       "      <td>...</td>\n",
       "      <td>...</td>\n",
       "    </tr>\n",
       "    <tr>\n",
       "      <th>4192</th>\n",
       "      <td>96498985000104</td>\n",
       "      <td>BRADESCO FUNDO DE INVESTIMENTO EM COTAS DE FUN...</td>\n",
       "      <td>2016-06-30</td>\n",
       "      <td>ABERTO</td>\n",
       "      <td>PÚBLICO EM GERAL</td>\n",
       "      <td>AÇÕES - INDEXADO - ÍNDICE PASSIVO</td>\n",
       "      <td>N</td>\n",
       "      <td>500.00</td>\n",
       "      <td>0</td>\n",
       "      <td>DIAS ÚTEIS</td>\n",
       "      <td>...</td>\n",
       "      <td>0.00</td>\n",
       "      <td>0.00</td>\n",
       "      <td>0.00</td>\n",
       "      <td>0.00</td>\n",
       "      <td>100.00</td>\n",
       "      <td>0.00</td>\n",
       "      <td>0.00</td>\n",
       "      <td>0.00</td>\n",
       "      <td>0.00</td>\n",
       "      <td>2016-06-01</td>\n",
       "    </tr>\n",
       "    <tr>\n",
       "      <th>4193</th>\n",
       "      <td>97519521000191</td>\n",
       "      <td>ITAÚ FLEXPREV ANABELA MULTIMERCADO - FUNDO DE ...</td>\n",
       "      <td>2016-10-31</td>\n",
       "      <td>ABERTO</td>\n",
       "      <td>PREVIDENCIÁRIO</td>\n",
       "      <td>MULTIMERCADO - ESTRATÉGIA - LIVRE</td>\n",
       "      <td>N</td>\n",
       "      <td>1.00</td>\n",
       "      <td>0</td>\n",
       "      <td>DIAS CORRIDOS</td>\n",
       "      <td>...</td>\n",
       "      <td>0.00</td>\n",
       "      <td>0.00</td>\n",
       "      <td>0.00</td>\n",
       "      <td>0.00</td>\n",
       "      <td>0.00</td>\n",
       "      <td>0.00</td>\n",
       "      <td>0.00</td>\n",
       "      <td>0.00</td>\n",
       "      <td>0.00</td>\n",
       "      <td>2016-10-01</td>\n",
       "    </tr>\n",
       "    <tr>\n",
       "      <th>4195</th>\n",
       "      <td>97519573000168</td>\n",
       "      <td>SERTÃO MULTIMERCADO CRÉDITO PRIVADO - FUNDO DE...</td>\n",
       "      <td>2017-09-29</td>\n",
       "      <td>ABERTO</td>\n",
       "      <td>PÚBLICO EM GERAL</td>\n",
       "      <td>MULTIMERCADO - ESTRATÉGIA - CAPITAL PROTEGIDO</td>\n",
       "      <td>NaN</td>\n",
       "      <td>1000000.00</td>\n",
       "      <td>0</td>\n",
       "      <td>DIAS CORRIDOS</td>\n",
       "      <td>...</td>\n",
       "      <td>100.00</td>\n",
       "      <td>0.00</td>\n",
       "      <td>100.00</td>\n",
       "      <td>0.00</td>\n",
       "      <td>100.00</td>\n",
       "      <td>0.00</td>\n",
       "      <td>100.00</td>\n",
       "      <td>0.00</td>\n",
       "      <td>100.00</td>\n",
       "      <td>2017-09-01</td>\n",
       "    </tr>\n",
       "    <tr>\n",
       "      <th>4196</th>\n",
       "      <td>97548164000190</td>\n",
       "      <td>DYNAMIC II - FUNDO DE INVESTIMENTO MULTIMERCAD...</td>\n",
       "      <td>2019-09-30</td>\n",
       "      <td>FECHADO</td>\n",
       "      <td>INVESTIDORES PROFISSIONAIS</td>\n",
       "      <td>MULTIMERCADO - INVESTIMENTO NO EXTERIOR</td>\n",
       "      <td>NaN</td>\n",
       "      <td>0.00</td>\n",
       "      <td>1</td>\n",
       "      <td>DIAS ÚTEIS</td>\n",
       "      <td>...</td>\n",
       "      <td>0.00</td>\n",
       "      <td>0.00</td>\n",
       "      <td>100.00</td>\n",
       "      <td>0.00</td>\n",
       "      <td>0.00</td>\n",
       "      <td>0.00</td>\n",
       "      <td>50.00</td>\n",
       "      <td>0.00</td>\n",
       "      <td>50.00</td>\n",
       "      <td>2019-09-01</td>\n",
       "    </tr>\n",
       "    <tr>\n",
       "      <th>4197</th>\n",
       "      <td>97929197000180</td>\n",
       "      <td>LECT FUNDO DE INVESTIMENTO EM COTAS DE FUNDOS ...</td>\n",
       "      <td>2019-07-31</td>\n",
       "      <td>ABERTO</td>\n",
       "      <td>INVESTIDORES QUALIFICADOS</td>\n",
       "      <td>AÇÕES - ATIVO - LIVRE</td>\n",
       "      <td>N</td>\n",
       "      <td>0.00</td>\n",
       "      <td>60</td>\n",
       "      <td>DIAS CORRIDOS</td>\n",
       "      <td>...</td>\n",
       "      <td>100.00</td>\n",
       "      <td>0.00</td>\n",
       "      <td>33.00</td>\n",
       "      <td>0.00</td>\n",
       "      <td>100.00</td>\n",
       "      <td>0.00</td>\n",
       "      <td>20.00</td>\n",
       "      <td>0.00</td>\n",
       "      <td>20.00</td>\n",
       "      <td>2019-07-01</td>\n",
       "    </tr>\n",
       "  </tbody>\n",
       "</table>\n",
       "<p>2669 rows × 50 columns</p>\n",
       "</div>"
      ],
      "text/plain": [
       "          CNPJ_FUNDO                                       DENOM_SOCIAL  \\\n",
       "1     00068305000135  FUNDO DE INVESTIMENTO EM COTAS DE FUNDOS DE IN...   \n",
       "3     00083181000167  OPP I FUNDO DE INVESTIMENTO EM AÇÕES BDR NÍVEL...   \n",
       "4     00346750000110  NIC YIELD FUNDO DE INVESTIMENTO EM COTAS DE FU...   \n",
       "6     00598452000117  MB MASTER REFERENCIADO DI LONGO PRAZO FUNDO DE...   \n",
       "9     00601692000123  FAMA FUNDO DE INVESTIMENTO EM COTAS DE FUNDOS ...   \n",
       "...              ...                                                ...   \n",
       "4192  96498985000104  BRADESCO FUNDO DE INVESTIMENTO EM COTAS DE FUN...   \n",
       "4193  97519521000191  ITAÚ FLEXPREV ANABELA MULTIMERCADO - FUNDO DE ...   \n",
       "4195  97519573000168  SERTÃO MULTIMERCADO CRÉDITO PRIVADO - FUNDO DE...   \n",
       "4196  97548164000190  DYNAMIC II - FUNDO DE INVESTIMENTO MULTIMERCAD...   \n",
       "4197  97929197000180  LECT FUNDO DE INVESTIMENTO EM COTAS DE FUNDOS ...   \n",
       "\n",
       "      DT_COMPTC   CONDOM                PUBLICO_ALVO  \\\n",
       "1    2020-10-30   ABERTO            PÚBLICO EM GERAL   \n",
       "3    2019-09-30  FECHADO  INVESTIDORES PROFISSIONAIS   \n",
       "4    2016-06-30   ABERTO            PÚBLICO EM GERAL   \n",
       "6    2016-05-31   ABERTO            PÚBLICO EM GERAL   \n",
       "9    2016-02-29   ABERTO            PÚBLICO EM GERAL   \n",
       "...         ...      ...                         ...   \n",
       "4192 2016-06-30   ABERTO            PÚBLICO EM GERAL   \n",
       "4193 2016-10-31   ABERTO              PREVIDENCIÁRIO   \n",
       "4195 2017-09-29   ABERTO            PÚBLICO EM GERAL   \n",
       "4196 2019-09-30  FECHADO  INVESTIDORES PROFISSIONAIS   \n",
       "4197 2019-07-31   ABERTO   INVESTIDORES QUALIFICADOS   \n",
       "\n",
       "                                        CLASSE_ANBIMA FUNDO_ESPELHO  \\\n",
       "1     RENDA FIXA LIVRE DURAÇÃO - GRAU DE INVESTIMENTO             S   \n",
       "3                             AÇÕES - FUNDOS FECHADOS           NaN   \n",
       "4          MULTIMERCADO - ESTRATÉGIA - JUROS E MOEDAS             N   \n",
       "6     RENDA FIXA BAIXA DURAÇÃO - GRAU DE INVESTIMENTO           NaN   \n",
       "9                               AÇÕES - ATIVO - LIVRE             N   \n",
       "...                                               ...           ...   \n",
       "4192                AÇÕES - INDEXADO - ÍNDICE PASSIVO             N   \n",
       "4193                MULTIMERCADO - ESTRATÉGIA - LIVRE             N   \n",
       "4195    MULTIMERCADO - ESTRATÉGIA - CAPITAL PROTEGIDO           NaN   \n",
       "4196          MULTIMERCADO - INVESTIMENTO NO EXTERIOR           NaN   \n",
       "4197                            AÇÕES - ATIVO - LIVRE             N   \n",
       "\n",
       "      APLIC_MIN  QT_DIA_PAGTO_RESGATE TP_DIA_PAGTO_RESGATE  ...  PR_ACAO_MAX  \\\n",
       "1          0.00                     0           DIAS ÚTEIS  ...         0.00   \n",
       "3          0.00                     3           DIAS ÚTEIS  ...         0.00   \n",
       "4        500.00                     1           DIAS ÚTEIS  ...         0.00   \n",
       "6          0.00                     0           DIAS ÚTEIS  ...         0.00   \n",
       "9          0.00                    60           DIAS ÚTEIS  ...       100.00   \n",
       "...         ...                   ...                  ...  ...          ...   \n",
       "4192     500.00                     0           DIAS ÚTEIS  ...         0.00   \n",
       "4193       1.00                     0        DIAS CORRIDOS  ...         0.00   \n",
       "4195 1000000.00                     0        DIAS CORRIDOS  ...       100.00   \n",
       "4196       0.00                     1           DIAS ÚTEIS  ...         0.00   \n",
       "4197       0.00                    60        DIAS CORRIDOS  ...       100.00   \n",
       "\n",
       "     PR_DEBENTURE_MIN  PR_DEBENTURE_MAX PR_DERIV_MIN  PR_DERIV_MAX  \\\n",
       "1                0.00              0.00         0.00          0.00   \n",
       "3                0.00             33.00         0.00          0.00   \n",
       "4                0.00              0.00         0.00          0.00   \n",
       "6                0.00              5.00         0.00        100.00   \n",
       "9                0.00             50.00         0.00          0.00   \n",
       "...               ...               ...          ...           ...   \n",
       "4192             0.00              0.00         0.00        100.00   \n",
       "4193             0.00              0.00         0.00          0.00   \n",
       "4195             0.00            100.00         0.00        100.00   \n",
       "4196             0.00            100.00         0.00          0.00   \n",
       "4197             0.00             33.00         0.00        100.00   \n",
       "\n",
       "     PR_COTA_FIP_MIN PR_COTA_FIP_MAX PR_COTA_FICFIP_MIN  PR_COTA_FICFIP_MAX  \\\n",
       "1               0.00            0.00               0.00                0.00   \n",
       "3               0.00           33.00               0.00               33.00   \n",
       "4               0.00            0.00               0.00                0.00   \n",
       "6               0.00           10.00               0.00               10.00   \n",
       "9               0.00            0.00               0.00                0.00   \n",
       "...              ...             ...                ...                 ...   \n",
       "4192            0.00            0.00               0.00                0.00   \n",
       "4193            0.00            0.00               0.00                0.00   \n",
       "4195            0.00          100.00               0.00              100.00   \n",
       "4196            0.00           50.00               0.00               50.00   \n",
       "4197            0.00           20.00               0.00               20.00   \n",
       "\n",
       "     MES_COMPTC  \n",
       "1    2020-10-01  \n",
       "3    2019-09-01  \n",
       "4    2016-06-01  \n",
       "6    2016-05-01  \n",
       "9    2016-02-01  \n",
       "...         ...  \n",
       "4192 2016-06-01  \n",
       "4193 2016-10-01  \n",
       "4195 2017-09-01  \n",
       "4196 2019-09-01  \n",
       "4197 2019-07-01  \n",
       "\n",
       "[2669 rows x 50 columns]"
      ]
     },
     "execution_count": 22,
     "metadata": {},
     "output_type": "execute_result"
    }
   ],
   "source": [
    "df2"
   ]
  },
  {
   "cell_type": "code",
   "execution_count": 19,
   "metadata": {},
   "outputs": [
    {
     "name": "stdout",
     "output_type": "stream",
     "text": [
      " - Inicio da importação do dataframe p o sql: 27/06/2021 21:27:20\n",
      "(4198, 50)\n",
      "(4198, 50)\n",
      " - Fim da importação do dataframe: 27/06/2021 21:27:20\n",
      "---------------------------------------------------------------------------\n"
     ]
    }
   ],
   "source": [
    "#\n",
    "# faz carga no banco de dados\n",
    "#\n",
    "print(' - Inicio da importação do dataframe p o sql: ' + fa.agora())\n",
    "#df2.to_sql('tbl_caracteristicas', conn,  schema='investdb',index = False, if_exists='append')\n",
    "print(df2.shape)\n",
    "df2.drop_duplicates(subset=['CNPJ_FUNDO'], keep='last', inplace=True)\n",
    "\n",
    "print(df2.shape)\n",
    "df2.to_csv('tbl_caracteristicas.csv', index=False)\n",
    "#df2.to_csv('tbl_caracteristicas.csv', encoding='utf-8', index=False)\n",
    "print(' - Fim da importação do dataframe: ' + fa.agora())\n",
    "print('-'*75)"
   ]
  },
  {
   "cell_type": "markdown",
   "metadata": {},
   "source": [
    "<div class=\"alert-warning\">    \n",
    "    <h4><br>&nbsp;\n",
    "            VACUUM no SQLite\n",
    "        <br>\n",
    "    </h4>\n",
    "</div>\n"
   ]
  },
  {
   "cell_type": "code",
   "execution_count": 21,
   "metadata": {},
   "outputs": [],
   "source": [
    "df2.drop_duplicates(subset=['CNPJ_FUNDO'], keep='last', inplace=True)"
   ]
  },
  {
   "cell_type": "code",
   "execution_count": null,
   "metadata": {},
   "outputs": [],
   "source": [
    "#\n",
    "# VACUUM no sqLite\n",
    "#\n",
    "print('Inicio da otimização')\n",
    "fa.agora()\n",
    "fa.otimizarSQLite(conn)\n",
    "conn.close()\n",
    "print('Fim da otimização')\n",
    "fa.agora()"
   ]
  },
  {
   "cell_type": "markdown",
   "metadata": {},
   "source": [
    "[Marco Cruz no LinkedIn](https://www.linkedin.com/in/marcoacf/)"
   ]
  }
 ],
 "metadata": {
  "kernelspec": {
   "display_name": "Python 3",
   "language": "python",
   "name": "python3"
  },
  "language_info": {
   "codemirror_mode": {
    "name": "ipython",
    "version": 3
   },
   "file_extension": ".py",
   "mimetype": "text/x-python",
   "name": "python",
   "nbconvert_exporter": "python",
   "pygments_lexer": "ipython3",
   "version": "3.8.5"
  }
 },
 "nbformat": 4,
 "nbformat_minor": 4
}
